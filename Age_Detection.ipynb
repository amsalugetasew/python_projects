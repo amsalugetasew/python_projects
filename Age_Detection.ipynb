#OS libs
import os
import shutil
import itertools
import pathlib
from PIL import Image
